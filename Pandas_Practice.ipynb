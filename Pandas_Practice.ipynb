{
  "nbformat": 4,
  "nbformat_minor": 0,
  "metadata": {
    "colab": {
      "provenance": [],
      "authorship_tag": "ABX9TyOciO/WJJOA5sg3iagKfw5X",
      "include_colab_link": true
    },
    "kernelspec": {
      "name": "python3",
      "display_name": "Python 3"
    },
    "language_info": {
      "name": "python"
    }
  },
  "cells": [
    {
      "cell_type": "markdown",
      "metadata": {
        "id": "view-in-github",
        "colab_type": "text"
      },
      "source": [
        "<a href=\"https://colab.research.google.com/github/nswekosk/hands-on-machine-learning-practice/blob/master/Pandas_Practice.ipynb\" target=\"_parent\"><img src=\"https://colab.research.google.com/assets/colab-badge.svg\" alt=\"Open In Colab\"/></a>"
      ]
    },
    {
      "cell_type": "code",
      "execution_count": null,
      "metadata": {
        "id": "OVk8z9HfUNGq"
      },
      "outputs": [],
      "source": [
        "import pandas as pd"
      ]
    },
    {
      "cell_type": "markdown",
      "source": [
        "# `Series` objects\n",
        "\n",
        "3 types of data structures:\n",
        "* `Series` : A `Series` objecti s 1Da array, simliar to a column in a spreadsheet (with a column name and row labels).\n",
        "* `DataFrame`: A 2D table, similar to a spreadsheet (with column nmaes and row labels)\n",
        "* `Panel`: A dictionary of `DataFrame`s. These are less used and I won'tt be looking deeper into these"
      ],
      "metadata": {
        "id": "MHu7IA8MUa2T"
      }
    },
    {
      "cell_type": "markdown",
      "source": [
        "# Creating a `Series`"
      ],
      "metadata": {
        "id": "BXDjcLOnU4UR"
      }
    },
    {
      "cell_type": "code",
      "source": [
        "s = pd.Series([2, -1, 3, 5])\n",
        "s"
      ],
      "metadata": {
        "colab": {
          "base_uri": "https://localhost:8080/"
        },
        "id": "HZp9SID6Uacy",
        "outputId": "07f80881-885c-4128-aefd-bafc90575791"
      },
      "execution_count": null,
      "outputs": [
        {
          "output_type": "execute_result",
          "data": {
            "text/plain": [
              "0    2\n",
              "1   -1\n",
              "2    3\n",
              "3    5\n",
              "dtype: int64"
            ]
          },
          "metadata": {},
          "execution_count": 3
        }
      ]
    },
    {
      "cell_type": "markdown",
      "source": [
        "# Similar to a 1D `ndarray`\n",
        "\n",
        "`Series` objects behave much like one-dimensional NumPy `ndarray`s, and you can often pass them as parameters to NumPy functions:"
      ],
      "metadata": {
        "id": "w6520KmCVDBu"
      }
    },
    {
      "cell_type": "code",
      "source": [
        "import numpy as np\n",
        "np.exp(s)"
      ],
      "metadata": {
        "colab": {
          "base_uri": "https://localhost:8080/"
        },
        "id": "6km9wLONU86V",
        "outputId": "9a4e509e-93ca-4f12-e92d-9a4d936aa5b7"
      },
      "execution_count": 4,
      "outputs": [
        {
          "output_type": "execute_result",
          "data": {
            "text/plain": [
              "0      7.389056\n",
              "1      0.367879\n",
              "2     20.085537\n",
              "3    148.413159\n",
              "dtype: float64"
            ]
          },
          "metadata": {},
          "execution_count": 4
        }
      ]
    },
    {
      "cell_type": "markdown",
      "source": [
        "Arithmetic operations on `Series` are also possible, and they apply elementwise, just like for `ndarray`s:"
      ],
      "metadata": {
        "id": "tY_f4n0VUEfv"
      }
    },
    {
      "cell_type": "code",
      "source": [
        "s + [1000, 2000, 3000, 4000]"
      ],
      "metadata": {
        "colab": {
          "base_uri": "https://localhost:8080/"
        },
        "id": "wTtRUX-cUDHS",
        "outputId": "87de4f58-bf03-4181-e599-1da014ebe4ae"
      },
      "execution_count": 5,
      "outputs": [
        {
          "output_type": "execute_result",
          "data": {
            "text/plain": [
              "0    1002\n",
              "1    1999\n",
              "2    3003\n",
              "3    4005\n",
              "dtype: int64"
            ]
          },
          "metadata": {},
          "execution_count": 5
        }
      ]
    },
    {
      "cell_type": "markdown",
      "source": [
        "Similar to NumPy, if you add a single number to a `Series`, that number is added to all items in the `Series`. This is call * broadcasting*:"
      ],
      "metadata": {
        "id": "r85mAlfoUOtV"
      }
    },
    {
      "cell_type": "code",
      "source": [
        "s + 1000"
      ],
      "metadata": {
        "colab": {
          "base_uri": "https://localhost:8080/"
        },
        "id": "9cBcMZAWUMPj",
        "outputId": "0a685a75-c0fa-4381-b08a-45623250f41a"
      },
      "execution_count": 6,
      "outputs": [
        {
          "output_type": "execute_result",
          "data": {
            "text/plain": [
              "0    1002\n",
              "1     999\n",
              "2    1003\n",
              "3    1005\n",
              "dtype: int64"
            ]
          },
          "metadata": {},
          "execution_count": 6
        }
      ]
    },
    {
      "cell_type": "markdown",
      "source": [
        "The same is true for all binary operations such as `*` or `/`, and even conditional operations:"
      ],
      "metadata": {
        "id": "YIg2V5uWUZgK"
      }
    },
    {
      "cell_type": "code",
      "source": [
        "s < 0"
      ],
      "metadata": {
        "colab": {
          "base_uri": "https://localhost:8080/"
        },
        "id": "W8lvrk-lUVzx",
        "outputId": "f8c64178-3636-4f88-de1d-7ffe7d4cb7d3"
      },
      "execution_count": 7,
      "outputs": [
        {
          "output_type": "execute_result",
          "data": {
            "text/plain": [
              "0    False\n",
              "1     True\n",
              "2    False\n",
              "3    False\n",
              "dtype: bool"
            ]
          },
          "metadata": {},
          "execution_count": 7
        }
      ]
    },
    {
      "cell_type": "markdown",
      "source": [
        "## Index labels\n",
        "\n",
        "Each item in a `Series` object has a unique identifier called the index label. By default, it is simply the rank of the item in the `Series` (starting at `0`) but you can also set the index labels manually:"
      ],
      "metadata": {
        "id": "5OYoONuAUgZ_"
      }
    },
    {
      "cell_type": "code",
      "source": [
        "s2 = pd.Series([68, 83, 112, 68], index=[\"alice\", \"bob\", \"charles\", \"darwin\"])\n",
        "s2"
      ],
      "metadata": {
        "colab": {
          "base_uri": "https://localhost:8080/"
        },
        "id": "J-j0l6X_UdZQ",
        "outputId": "5aaee206-85e1-4347-d0a9-50294e3f468e"
      },
      "execution_count": 10,
      "outputs": [
        {
          "output_type": "execute_result",
          "data": {
            "text/plain": [
              "alice       68\n",
              "bob         83\n",
              "charles    112\n",
              "darwin      68\n",
              "dtype: int64"
            ]
          },
          "metadata": {},
          "execution_count": 10
        }
      ]
    },
    {
      "cell_type": "markdown",
      "source": [
        "You can then use the `Series` just like a `dict`:"
      ],
      "metadata": {
        "id": "RouTCiVFU6-x"
      }
    },
    {
      "cell_type": "code",
      "source": [
        "s2[\"bob\"]"
      ],
      "metadata": {
        "colab": {
          "base_uri": "https://localhost:8080/"
        },
        "id": "8kLTao8kU0Ie",
        "outputId": "6818d46c-443b-4918-ee2e-774dee0a75c6"
      },
      "execution_count": 11,
      "outputs": [
        {
          "output_type": "execute_result",
          "data": {
            "text/plain": [
              "83"
            ]
          },
          "metadata": {},
          "execution_count": 11
        }
      ]
    },
    {
      "cell_type": "code",
      "source": [
        "s2[1]"
      ],
      "metadata": {
        "colab": {
          "base_uri": "https://localhost:8080/"
        },
        "id": "_UQFEGF1U-Gg",
        "outputId": "378bf89e-0abe-43ef-df2d-31205d9c3b43"
      },
      "execution_count": 12,
      "outputs": [
        {
          "output_type": "execute_result",
          "data": {
            "text/plain": [
              "83"
            ]
          },
          "metadata": {},
          "execution_count": 12
        }
      ]
    },
    {
      "cell_type": "code",
      "source": [
        "s2.loc[\"bob\"]"
      ],
      "metadata": {
        "colab": {
          "base_uri": "https://localhost:8080/"
        },
        "id": "QwhsT_jlVDdZ",
        "outputId": "060a3f76-82f4-4580-da49-7a0d2350435a"
      },
      "execution_count": 13,
      "outputs": [
        {
          "output_type": "execute_result",
          "data": {
            "text/plain": [
              "83"
            ]
          },
          "metadata": {},
          "execution_count": 13
        }
      ]
    },
    {
      "cell_type": "code",
      "source": [
        "s2.iloc[1]"
      ],
      "metadata": {
        "colab": {
          "base_uri": "https://localhost:8080/"
        },
        "id": "dLtmyMolVJKU",
        "outputId": "63dbd083-82d3-4f81-949f-7df83151cea2"
      },
      "execution_count": 14,
      "outputs": [
        {
          "output_type": "execute_result",
          "data": {
            "text/plain": [
              "83"
            ]
          },
          "metadata": {},
          "execution_count": 14
        }
      ]
    },
    {
      "cell_type": "markdown",
      "source": [
        "Slicing a `Series` also slices the index labels:"
      ],
      "metadata": {
        "id": "fv4OApf7VPDX"
      }
    },
    {
      "cell_type": "code",
      "source": [
        "s2.iloc[1:3]"
      ],
      "metadata": {
        "colab": {
          "base_uri": "https://localhost:8080/"
        },
        "id": "haxGnUTlVKKj",
        "outputId": "81a1f626-3372-4a46-b403-d7f7ca4d638b"
      },
      "execution_count": 15,
      "outputs": [
        {
          "output_type": "execute_result",
          "data": {
            "text/plain": [
              "bob         83\n",
              "charles    112\n",
              "dtype: int64"
            ]
          },
          "metadata": {},
          "execution_count": 15
        }
      ]
    },
    {
      "cell_type": "markdown",
      "source": [
        "This can lead to unexpected results when using the default numeric labels, so be careful:"
      ],
      "metadata": {
        "id": "QnfTC-fwWPRP"
      }
    },
    {
      "cell_type": "code",
      "source": [
        "surprise = pd.Series([1000, 1001, 1002, 1003]);\n",
        "surprise"
      ],
      "metadata": {
        "colab": {
          "base_uri": "https://localhost:8080/"
        },
        "id": "mz79GPHvVS2V",
        "outputId": "e7070efe-86e8-4af0-dc12-a43ba9b3f5a2"
      },
      "execution_count": 16,
      "outputs": [
        {
          "output_type": "execute_result",
          "data": {
            "text/plain": [
              "0    1000\n",
              "1    1001\n",
              "2    1002\n",
              "3    1003\n",
              "dtype: int64"
            ]
          },
          "metadata": {},
          "execution_count": 16
        }
      ]
    },
    {
      "cell_type": "code",
      "source": [
        "surprise_slice = surprise[2:]\n",
        "#surprise_slice\n",
        "try:\n",
        "  surprise_slice[0]\n",
        "except KeyError as e:\n",
        "  print(\"Key error:\", e)\n",
        "\n",
        "surprise_slice.iloc[0]"
      ],
      "metadata": {
        "colab": {
          "base_uri": "https://localhost:8080/"
        },
        "id": "7axaQs_VWWNg",
        "outputId": "6114807d-de3d-4ee8-d31f-99c8ed39dd7e"
      },
      "execution_count": 22,
      "outputs": [
        {
          "output_type": "stream",
          "name": "stdout",
          "text": [
            "Key error: 0\n"
          ]
        },
        {
          "output_type": "execute_result",
          "data": {
            "text/plain": [
              "1002"
            ]
          },
          "metadata": {},
          "execution_count": 22
        }
      ]
    },
    {
      "cell_type": "markdown",
      "source": [],
      "metadata": {
        "id": "dQoI0kifXC6I"
      }
    },
    {
      "cell_type": "code",
      "source": [],
      "metadata": {
        "id": "mSTH6BnNWrkp"
      },
      "execution_count": null,
      "outputs": []
    }
  ]
}