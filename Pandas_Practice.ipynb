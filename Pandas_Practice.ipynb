{
  "nbformat": 4,
  "nbformat_minor": 0,
  "metadata": {
    "colab": {
      "provenance": [],
      "authorship_tag": "ABX9TyMZpd++YwOYCwes6YN6jbjM",
      "include_colab_link": true
    },
    "kernelspec": {
      "name": "python3",
      "display_name": "Python 3"
    },
    "language_info": {
      "name": "python"
    }
  },
  "cells": [
    {
      "cell_type": "markdown",
      "metadata": {
        "id": "view-in-github",
        "colab_type": "text"
      },
      "source": [
        "<a href=\"https://colab.research.google.com/github/nswekosk/hands-on-machine-learning-practice/blob/master/Pandas_Practice.ipynb\" target=\"_parent\"><img src=\"https://colab.research.google.com/assets/colab-badge.svg\" alt=\"Open In Colab\"/></a>"
      ]
    },
    {
      "cell_type": "code",
      "execution_count": null,
      "metadata": {
        "id": "OVk8z9HfUNGq"
      },
      "outputs": [],
      "source": [
        "import pandas as pd"
      ]
    },
    {
      "cell_type": "markdown",
      "source": [
        "# `Series` objects\n",
        "\n",
        "3 types of data structures:\n",
        "* `Series` : A `Series` objecti s 1Da array, simliar to a column in a spreadsheet (with a column name and row labels).\n",
        "* `DataFrame`: A 2D table, similar to a spreadsheet (with column nmaes and row labels)\n",
        "* `Panel`: A dictionary of `DataFrame`s. These are less used and I won'tt be looking deeper into these"
      ],
      "metadata": {
        "id": "MHu7IA8MUa2T"
      }
    },
    {
      "cell_type": "markdown",
      "source": [
        "# Creating a `Series`"
      ],
      "metadata": {
        "id": "BXDjcLOnU4UR"
      }
    },
    {
      "cell_type": "code",
      "source": [
        "s = pd.Series([2, -1, 3, 5])\n",
        "s"
      ],
      "metadata": {
        "colab": {
          "base_uri": "https://localhost:8080/"
        },
        "id": "HZp9SID6Uacy",
        "outputId": "07f80881-885c-4128-aefd-bafc90575791"
      },
      "execution_count": null,
      "outputs": [
        {
          "output_type": "execute_result",
          "data": {
            "text/plain": [
              "0    2\n",
              "1   -1\n",
              "2    3\n",
              "3    5\n",
              "dtype: int64"
            ]
          },
          "metadata": {},
          "execution_count": 3
        }
      ]
    },
    {
      "cell_type": "markdown",
      "source": [
        "# Similar to a 1D `ndarray`\n",
        "\n",
        "`Series` objects behave much like one-dimensional NumPy `ndarray`s, and you can often pass them as parameters to NumPy functions:"
      ],
      "metadata": {
        "id": "w6520KmCVDBu"
      }
    },
    {
      "cell_type": "code",
      "source": [
        "import numpy as np\n",
        "np.exp(s)"
      ],
      "metadata": {
        "colab": {
          "base_uri": "https://localhost:8080/"
        },
        "id": "6km9wLONU86V",
        "outputId": "9a4e509e-93ca-4f12-e92d-9a4d936aa5b7"
      },
      "execution_count": 4,
      "outputs": [
        {
          "output_type": "execute_result",
          "data": {
            "text/plain": [
              "0      7.389056\n",
              "1      0.367879\n",
              "2     20.085537\n",
              "3    148.413159\n",
              "dtype: float64"
            ]
          },
          "metadata": {},
          "execution_count": 4
        }
      ]
    },
    {
      "cell_type": "markdown",
      "source": [
        "Arithmetic operations on `Series` are also possible, and they apply elementwise, just like for `ndarray`s:"
      ],
      "metadata": {
        "id": "tY_f4n0VUEfv"
      }
    },
    {
      "cell_type": "code",
      "source": [
        "s + [1000, 2000, 3000, 4000]"
      ],
      "metadata": {
        "colab": {
          "base_uri": "https://localhost:8080/"
        },
        "id": "wTtRUX-cUDHS",
        "outputId": "87de4f58-bf03-4181-e599-1da014ebe4ae"
      },
      "execution_count": 5,
      "outputs": [
        {
          "output_type": "execute_result",
          "data": {
            "text/plain": [
              "0    1002\n",
              "1    1999\n",
              "2    3003\n",
              "3    4005\n",
              "dtype: int64"
            ]
          },
          "metadata": {},
          "execution_count": 5
        }
      ]
    },
    {
      "cell_type": "markdown",
      "source": [
        "Similar to NumPy, if you add a single number to a `Series`, that number is added to all items in the `Series`. This is call * broadcasting*:"
      ],
      "metadata": {
        "id": "r85mAlfoUOtV"
      }
    },
    {
      "cell_type": "code",
      "source": [
        "s + 1000"
      ],
      "metadata": {
        "colab": {
          "base_uri": "https://localhost:8080/"
        },
        "id": "9cBcMZAWUMPj",
        "outputId": "0a685a75-c0fa-4381-b08a-45623250f41a"
      },
      "execution_count": 6,
      "outputs": [
        {
          "output_type": "execute_result",
          "data": {
            "text/plain": [
              "0    1002\n",
              "1     999\n",
              "2    1003\n",
              "3    1005\n",
              "dtype: int64"
            ]
          },
          "metadata": {},
          "execution_count": 6
        }
      ]
    },
    {
      "cell_type": "markdown",
      "source": [
        "The same is true for all binary operations such as `*` or `/`, and even conditional operations:"
      ],
      "metadata": {
        "id": "YIg2V5uWUZgK"
      }
    },
    {
      "cell_type": "code",
      "source": [
        "s < 0"
      ],
      "metadata": {
        "colab": {
          "base_uri": "https://localhost:8080/"
        },
        "id": "W8lvrk-lUVzx",
        "outputId": "f8c64178-3636-4f88-de1d-7ffe7d4cb7d3"
      },
      "execution_count": 7,
      "outputs": [
        {
          "output_type": "execute_result",
          "data": {
            "text/plain": [
              "0    False\n",
              "1     True\n",
              "2    False\n",
              "3    False\n",
              "dtype: bool"
            ]
          },
          "metadata": {},
          "execution_count": 7
        }
      ]
    },
    {
      "cell_type": "markdown",
      "source": [
        "## Index labels\n",
        "\n",
        "Each item in a `Series` object has a unique identifier called the index label. By default, it is simply the rank of the item in the `Series` (starting at `0`) but you can also set the index labels manually:"
      ],
      "metadata": {
        "id": "5OYoONuAUgZ_"
      }
    },
    {
      "cell_type": "code",
      "source": [
        "s2 = pd.Series([68, 83, 112, 68], index=[\"alice\", \"bob\", \"charles\", \"darwin\"])\n",
        "s2"
      ],
      "metadata": {
        "colab": {
          "base_uri": "https://localhost:8080/"
        },
        "id": "J-j0l6X_UdZQ",
        "outputId": "5aaee206-85e1-4347-d0a9-50294e3f468e"
      },
      "execution_count": 10,
      "outputs": [
        {
          "output_type": "execute_result",
          "data": {
            "text/plain": [
              "alice       68\n",
              "bob         83\n",
              "charles    112\n",
              "darwin      68\n",
              "dtype: int64"
            ]
          },
          "metadata": {},
          "execution_count": 10
        }
      ]
    },
    {
      "cell_type": "markdown",
      "source": [
        "You can then use the `Series` just like a `dict`:"
      ],
      "metadata": {
        "id": "RouTCiVFU6-x"
      }
    },
    {
      "cell_type": "code",
      "source": [
        "s2[\"bob\"]"
      ],
      "metadata": {
        "colab": {
          "base_uri": "https://localhost:8080/"
        },
        "id": "8kLTao8kU0Ie",
        "outputId": "6818d46c-443b-4918-ee2e-774dee0a75c6"
      },
      "execution_count": 11,
      "outputs": [
        {
          "output_type": "execute_result",
          "data": {
            "text/plain": [
              "83"
            ]
          },
          "metadata": {},
          "execution_count": 11
        }
      ]
    },
    {
      "cell_type": "code",
      "source": [
        "s2[1]"
      ],
      "metadata": {
        "colab": {
          "base_uri": "https://localhost:8080/"
        },
        "id": "_UQFEGF1U-Gg",
        "outputId": "378bf89e-0abe-43ef-df2d-31205d9c3b43"
      },
      "execution_count": 12,
      "outputs": [
        {
          "output_type": "execute_result",
          "data": {
            "text/plain": [
              "83"
            ]
          },
          "metadata": {},
          "execution_count": 12
        }
      ]
    },
    {
      "cell_type": "code",
      "source": [
        "s2.loc[\"bob\"]"
      ],
      "metadata": {
        "colab": {
          "base_uri": "https://localhost:8080/"
        },
        "id": "QwhsT_jlVDdZ",
        "outputId": "060a3f76-82f4-4580-da49-7a0d2350435a"
      },
      "execution_count": 13,
      "outputs": [
        {
          "output_type": "execute_result",
          "data": {
            "text/plain": [
              "83"
            ]
          },
          "metadata": {},
          "execution_count": 13
        }
      ]
    },
    {
      "cell_type": "code",
      "source": [
        "s2.iloc[1]"
      ],
      "metadata": {
        "colab": {
          "base_uri": "https://localhost:8080/"
        },
        "id": "dLtmyMolVJKU",
        "outputId": "63dbd083-82d3-4f81-949f-7df83151cea2"
      },
      "execution_count": 14,
      "outputs": [
        {
          "output_type": "execute_result",
          "data": {
            "text/plain": [
              "83"
            ]
          },
          "metadata": {},
          "execution_count": 14
        }
      ]
    },
    {
      "cell_type": "markdown",
      "source": [
        "Slicing a `Series` also slices the index labels:"
      ],
      "metadata": {
        "id": "fv4OApf7VPDX"
      }
    },
    {
      "cell_type": "code",
      "source": [
        "s2.iloc[1:3]"
      ],
      "metadata": {
        "colab": {
          "base_uri": "https://localhost:8080/"
        },
        "id": "haxGnUTlVKKj",
        "outputId": "81a1f626-3372-4a46-b403-d7f7ca4d638b"
      },
      "execution_count": 15,
      "outputs": [
        {
          "output_type": "execute_result",
          "data": {
            "text/plain": [
              "bob         83\n",
              "charles    112\n",
              "dtype: int64"
            ]
          },
          "metadata": {},
          "execution_count": 15
        }
      ]
    },
    {
      "cell_type": "markdown",
      "source": [
        "This can lead to unexpected results when using the default numeric labels, so be careful:"
      ],
      "metadata": {
        "id": "QnfTC-fwWPRP"
      }
    },
    {
      "cell_type": "code",
      "source": [
        "surprise = pd.Series([1000, 1001, 1002, 1003]);\n",
        "surprise"
      ],
      "metadata": {
        "colab": {
          "base_uri": "https://localhost:8080/"
        },
        "id": "mz79GPHvVS2V",
        "outputId": "e7070efe-86e8-4af0-dc12-a43ba9b3f5a2"
      },
      "execution_count": 16,
      "outputs": [
        {
          "output_type": "execute_result",
          "data": {
            "text/plain": [
              "0    1000\n",
              "1    1001\n",
              "2    1002\n",
              "3    1003\n",
              "dtype: int64"
            ]
          },
          "metadata": {},
          "execution_count": 16
        }
      ]
    },
    {
      "cell_type": "code",
      "source": [
        "surprise_slice = surprise[2:]\n",
        "#surprise_slice\n",
        "try:\n",
        "  surprise_slice[0]\n",
        "except KeyError as e:\n",
        "  print(\"Key error:\", e)\n",
        "\n",
        "surprise_slice.iloc[0]"
      ],
      "metadata": {
        "colab": {
          "base_uri": "https://localhost:8080/"
        },
        "id": "7axaQs_VWWNg",
        "outputId": "6114807d-de3d-4ee8-d31f-99c8ed39dd7e"
      },
      "execution_count": 22,
      "outputs": [
        {
          "output_type": "stream",
          "name": "stdout",
          "text": [
            "Key error: 0\n"
          ]
        },
        {
          "output_type": "execute_result",
          "data": {
            "text/plain": [
              "1002"
            ]
          },
          "metadata": {},
          "execution_count": 22
        }
      ]
    },
    {
      "cell_type": "markdown",
      "source": [
        "## Init from `dict`\n",
        "\n",
        "You can create a `Series` object from a `dict`. The keys will be used as index labels:"
      ],
      "metadata": {
        "id": "dQoI0kifXC6I"
      }
    },
    {
      "cell_type": "code",
      "source": [
        "weights = {\"alice\": 68, \"bob\": 83, \"colin\": 86, \"darwin\": 68}\n",
        "s3 = pd.Series(weights)\n",
        "s3"
      ],
      "metadata": {
        "colab": {
          "base_uri": "https://localhost:8080/"
        },
        "id": "mSTH6BnNWrkp",
        "outputId": "ad584615-21b1-4e80-8fcf-e9aeb241d744"
      },
      "execution_count": 23,
      "outputs": [
        {
          "output_type": "execute_result",
          "data": {
            "text/plain": [
              "alice     68\n",
              "bob       83\n",
              "colin     86\n",
              "darwin    68\n",
              "dtype: int64"
            ]
          },
          "metadata": {},
          "execution_count": 23
        }
      ]
    },
    {
      "cell_type": "markdown",
      "source": [
        "You can control which elements you want to include in the `Series` and in what order by explicitly specifying the desired `index`:"
      ],
      "metadata": {
        "id": "9Zhcp80JX9Jj"
      }
    },
    {
      "cell_type": "code",
      "source": [
        "s4 = pd.Series(weights, index = [\"colin\", \"alice\"])\n",
        "s4"
      ],
      "metadata": {
        "colab": {
          "base_uri": "https://localhost:8080/"
        },
        "id": "IodAkCvTX1ri",
        "outputId": "9a0ff184-0832-44a2-aa7e-e28857b0f775"
      },
      "execution_count": 27,
      "outputs": [
        {
          "output_type": "execute_result",
          "data": {
            "text/plain": [
              "colin    86\n",
              "alice    68\n",
              "dtype: int64"
            ]
          },
          "metadata": {},
          "execution_count": 27
        }
      ]
    },
    {
      "cell_type": "markdown",
      "source": [
        "## Automatic alignment\n",
        "\n",
        "When an operation involves multiple `Series` objects, as `pandas` automatically aligns items by matching index labels"
      ],
      "metadata": {
        "id": "mUOT_NYBYUaa"
      }
    },
    {
      "cell_type": "code",
      "source": [
        "print(s2.keys())\n",
        "print(s3.keys())\n",
        "s2 + s3"
      ],
      "metadata": {
        "colab": {
          "base_uri": "https://localhost:8080/"
        },
        "id": "vbLYOwDaX4qN",
        "outputId": "1a8df71d-dc76-4a61-8af2-e8f657dd885a"
      },
      "execution_count": 29,
      "outputs": [
        {
          "output_type": "stream",
          "name": "stdout",
          "text": [
            "Index(['alice', 'bob', 'charles', 'darwin'], dtype='object')\n",
            "Index(['alice', 'bob', 'colin', 'darwin'], dtype='object')\n"
          ]
        },
        {
          "output_type": "execute_result",
          "data": {
            "text/plain": [
              "alice      136.0\n",
              "bob        166.0\n",
              "charles      NaN\n",
              "colin        NaN\n",
              "darwin     136.0\n",
              "dtype: float64"
            ]
          },
          "metadata": {},
          "execution_count": 29
        }
      ]
    },
    {
      "cell_type": "code",
      "source": [
        "s5 = pd.Series([1000,1000,1000,1000])\n",
        "print(\"s2 =\", s2.values)\n",
        "print(\"s5 =\", s5.values)\n",
        "\n",
        "s2 + s5"
      ],
      "metadata": {
        "colab": {
          "base_uri": "https://localhost:8080/"
        },
        "id": "k7OVnYJnYlY2",
        "outputId": "e7210aae-8eb4-4066-d03e-fe479b9c725b"
      },
      "execution_count": 30,
      "outputs": [
        {
          "output_type": "stream",
          "name": "stdout",
          "text": [
            "s2 = [ 68  83 112  68]\n",
            "s5 = [1000 1000 1000 1000]\n"
          ]
        },
        {
          "output_type": "execute_result",
          "data": {
            "text/plain": [
              "alice     NaN\n",
              "bob       NaN\n",
              "charles   NaN\n",
              "darwin    NaN\n",
              "0         NaN\n",
              "1         NaN\n",
              "2         NaN\n",
              "3         NaN\n",
              "dtype: float64"
            ]
          },
          "metadata": {},
          "execution_count": 30
        }
      ]
    },
    {
      "cell_type": "markdown",
      "source": [
        "## Init with a scalar"
      ],
      "metadata": {
        "id": "qM0SGossZevh"
      }
    },
    {
      "cell_type": "code",
      "source": [
        "meaning = pd.Series(42, [\"life\", \"universe\", \"everything\"])\n",
        "meaning"
      ],
      "metadata": {
        "colab": {
          "base_uri": "https://localhost:8080/"
        },
        "id": "Y9K0qXzeZcw9",
        "outputId": "489b8c35-c82b-4d6d-f3ad-aab152fd40fa"
      },
      "execution_count": 31,
      "outputs": [
        {
          "output_type": "execute_result",
          "data": {
            "text/plain": [
              "life          42\n",
              "universe      42\n",
              "everything    42\n",
              "dtype: int64"
            ]
          },
          "metadata": {},
          "execution_count": 31
        }
      ]
    },
    {
      "cell_type": "code",
      "source": [
        "s6 = pd.Series([83, 68], index=[\"bob\", \"alice\"], name=\"weights\")\n",
        "s6"
      ],
      "metadata": {
        "colab": {
          "base_uri": "https://localhost:8080/"
        },
        "id": "8X3YqX-6aRCW",
        "outputId": "0fa9eb9d-c456-4e98-82b0-ba405942eb9b"
      },
      "execution_count": 35,
      "outputs": [
        {
          "output_type": "execute_result",
          "data": {
            "text/plain": [
              "bob      83\n",
              "alice    68\n",
              "Name: weights, dtype: int64"
            ]
          },
          "metadata": {},
          "execution_count": 35
        }
      ]
    },
    {
      "cell_type": "markdown",
      "source": [
        "## Plotting a `Series`"
      ],
      "metadata": {
        "id": "YZUfDuDyauQ3"
      }
    },
    {
      "cell_type": "code",
      "source": [
        "%matplotlib inline\n",
        "import matplotlib.pyplot as plt\n",
        "temperatures = [4.4,5.1,6.1,6.2,6.1,6.1,5.7,5.2,4.7,4.1,3.9,3.5]\n",
        "s7 = pd.Series(temperatures, name=\"Temperatures\")\n",
        "s7.plot()\n",
        "plt.show()"
      ],
      "metadata": {
        "colab": {
          "base_uri": "https://localhost:8080/",
          "height": 430
        },
        "id": "M0kZdsAOamA1",
        "outputId": "2961cfe1-7228-44f1-e004-adaec8eca81c"
      },
      "execution_count": 39,
      "outputs": [
        {
          "output_type": "display_data",
          "data": {
            "text/plain": [
              "<Figure size 640x480 with 1 Axes>"
            ],
            "image/png": "[encoded data removed]"
          },
          "metadata": {}
        }
      ]
    },
    {
      "cell_type": "markdown",
      "source": [
        "# Handling time\n",
        "Many datasets have timestamps, and pandas is awesome at manipulating such data:\n",
        "* it can represent periods (such as 2016Q3) and frequencies (such as \"monthly\"),\n",
        "* it can convert periods to actual timestamps, and vice versa,\n",
        "* it can resample data and aggregate values any way you like,\n",
        "* it can handle timezones.\n",
        "\n",
        "## Time range\n",
        "Let's start by creating a time series using pd.date_range(). This returns a `DatetimeIndex` containing one datetime per hour for 12 hours starting on October 29th at 2016 at 5:30 pm."
      ],
      "metadata": {
        "id": "zOJUI-Yrbo0m"
      }
    },
    {
      "cell_type": "code",
      "source": [
        "dates = pd.date_range(\"2016/10/29 5:30pm\", periods=12, freq='H')\n",
        "dates"
      ],
      "metadata": {
        "colab": {
          "base_uri": "https://localhost:8080/"
        },
        "id": "lUWBqAgbes47",
        "outputId": "61f92e07-b15d-45ee-f000-d3d4da6c6fb5"
      },
      "execution_count": 37,
      "outputs": [
        {
          "output_type": "execute_result",
          "data": {
            "text/plain": [
              "DatetimeIndex(['2016-10-29 17:30:00', '2016-10-29 18:30:00',\n",
              "               '2016-10-29 19:30:00', '2016-10-29 20:30:00',\n",
              "               '2016-10-29 21:30:00', '2016-10-29 22:30:00',\n",
              "               '2016-10-29 23:30:00', '2016-10-30 00:30:00',\n",
              "               '2016-10-30 01:30:00', '2016-10-30 02:30:00',\n",
              "               '2016-10-30 03:30:00', '2016-10-30 04:30:00'],\n",
              "              dtype='datetime64[ns]', freq='H')"
            ]
          },
          "metadata": {},
          "execution_count": 37
        }
      ]
    },
    {
      "cell_type": "code",
      "source": [
        "temp_series = pd.Series(temperatures, dates)\n",
        "temp_series"
      ],
      "metadata": {
        "colab": {
          "base_uri": "https://localhost:8080/"
        },
        "id": "6iZLQcEhbSA5",
        "outputId": "ec6f44a8-5ad4-4681-c447-a41f8e4bf191"
      },
      "execution_count": 40,
      "outputs": [
        {
          "output_type": "execute_result",
          "data": {
            "text/plain": [
              "2016-10-29 17:30:00    4.4\n",
              "2016-10-29 18:30:00    5.1\n",
              "2016-10-29 19:30:00    6.1\n",
              "2016-10-29 20:30:00    6.2\n",
              "2016-10-29 21:30:00    6.1\n",
              "2016-10-29 22:30:00    6.1\n",
              "2016-10-29 23:30:00    5.7\n",
              "2016-10-30 00:30:00    5.2\n",
              "2016-10-30 01:30:00    4.7\n",
              "2016-10-30 02:30:00    4.1\n",
              "2016-10-30 03:30:00    3.9\n",
              "2016-10-30 04:30:00    3.5\n",
              "Freq: H, dtype: float64"
            ]
          },
          "metadata": {},
          "execution_count": 40
        }
      ]
    },
    {
      "cell_type": "code",
      "source": [
        "temp_series.plot(kind=\"bar\")\n",
        "\n",
        "plt.grid(True)\n",
        "plt.show()"
      ],
      "metadata": {
        "colab": {
          "base_uri": "https://localhost:8080/",
          "height": 562
        },
        "id": "tBICiKrvfAr_",
        "outputId": "8c2586d7-3900-4fa4-a6ab-74d10743a61a"
      },
      "execution_count": 41,
      "outputs": [
        {
          "output_type": "display_data",
          "data": {
            "text/plain": [
              "<Figure size 640x480 with 1 Axes>"
            ],
            "image/png": "[encoded data removed]"
          },
          "metadata": {}
        }
      ]
    },
    {
      "cell_type": "markdown",
      "source": [
        "## Resampling"
      ],
      "metadata": {
        "id": "jpoa-QslfZDi"
      }
    },
    {
      "cell_type": "code",
      "source": [
        "temp_series_freq_2H = temp_series.resample(\"2H\")\n",
        "temp_series_freq_2H"
      ],
      "metadata": {
        "colab": {
          "base_uri": "https://localhost:8080/"
        },
        "id": "DRdojO-9fSOe",
        "outputId": "c4465863-e887-4de6-cb46-0ade72206ede"
      },
      "execution_count": 42,
      "outputs": [
        {
          "output_type": "execute_result",
          "data": {
            "text/plain": [
              "<pandas.core.resample.DatetimeIndexResampler object at 0x7f96aad1aa40>"
            ]
          },
          "metadata": {},
          "execution_count": 42
        }
      ]
    },
    {
      "cell_type": "code",
      "source": [
        "temp_series_freq_2H = temp_series_freq_2H.mean()"
      ],
      "metadata": {
        "id": "fYCTVYiff26Q"
      },
      "execution_count": 43,
      "outputs": []
    },
    {
      "cell_type": "code",
      "source": [
        "temp_series_freq_2H.plot(kind=\"bar\")\n",
        "plt.show()"
      ],
      "metadata": {
        "colab": {
          "base_uri": "https://localhost:8080/",
          "height": 562
        },
        "id": "3X_eAhpkgBTn",
        "outputId": "0298017e-2e56-4c2e-8ae7-f64c63bc22ba"
      },
      "execution_count": 44,
      "outputs": [
        {
          "output_type": "display_data",
          "data": {
            "text/plain": [
              "<Figure size 640x480 with 1 Axes>"
            ],
            "image/png": "[encoded data removed]"
          },
          "metadata": {}
        }
      ]
    },
    {
      "cell_type": "code",
      "source": [
        "temp_series_freq_2H = temp_series.resample(\"2H\").min()\n",
        "temp_series_freq_2H"
      ],
      "metadata": {
        "colab": {
          "base_uri": "https://localhost:8080/"
        },
        "id": "2QcEMXrZgG9Y",
        "outputId": "cd88e033-022f-49dd-8675-b69dbcb697fe"
      },
      "execution_count": 47,
      "outputs": [
        {
          "output_type": "execute_result",
          "data": {
            "text/plain": [
              "2016-10-29 16:00:00    4.4\n",
              "2016-10-29 18:00:00    5.1\n",
              "2016-10-29 20:00:00    6.1\n",
              "2016-10-29 22:00:00    5.7\n",
              "2016-10-30 00:00:00    4.7\n",
              "2016-10-30 02:00:00    3.9\n",
              "2016-10-30 04:00:00    3.5\n",
              "Freq: 2H, dtype: float64"
            ]
          },
          "metadata": {},
          "execution_count": 47
        }
      ]
    },
    {
      "cell_type": "code",
      "source": [
        "temp_series_freq_2H = temp_series.resample(\"2H\").apply(np.min)\n",
        "temp_series_freq_2H"
      ],
      "metadata": {
        "colab": {
          "base_uri": "https://localhost:8080/"
        },
        "id": "O_afj7PQhF9J",
        "outputId": "61ceecd9-4962-45f5-e437-bdbd2086781a"
      },
      "execution_count": 48,
      "outputs": [
        {
          "output_type": "execute_result",
          "data": {
            "text/plain": [
              "2016-10-29 16:00:00    4.4\n",
              "2016-10-29 18:00:00    5.1\n",
              "2016-10-29 20:00:00    6.1\n",
              "2016-10-29 22:00:00    5.7\n",
              "2016-10-30 00:00:00    4.7\n",
              "2016-10-30 02:00:00    3.9\n",
              "2016-10-30 04:00:00    3.5\n",
              "Freq: 2H, dtype: float64"
            ]
          },
          "metadata": {},
          "execution_count": 48
        }
      ]
    },
    {
      "cell_type": "markdown",
      "source": [
        "## Upsampling and interpolation"
      ],
      "metadata": {
        "id": "3cXNE0bYhUle"
      }
    },
    {
      "cell_type": "code",
      "source": [
        "temp_series_freq_15min = temp_series.resample(\"15Min\").mean()\n",
        "temp_series_freq_15min.head(n=10)"
      ],
      "metadata": {
        "colab": {
          "base_uri": "https://localhost:8080/"
        },
        "id": "R82fyPkshQ6x",
        "outputId": "4f2a1bde-f353-44bd-ad9a-a7c0234fa0a3"
      },
      "execution_count": 49,
      "outputs": [
        {
          "output_type": "execute_result",
          "data": {
            "text/plain": [
              "2016-10-29 17:30:00    4.4\n",
              "2016-10-29 17:45:00    NaN\n",
              "2016-10-29 18:00:00    NaN\n",
              "2016-10-29 18:15:00    NaN\n",
              "2016-10-29 18:30:00    5.1\n",
              "2016-10-29 18:45:00    NaN\n",
              "2016-10-29 19:00:00    NaN\n",
              "2016-10-29 19:15:00    NaN\n",
              "2016-10-29 19:30:00    6.1\n",
              "2016-10-29 19:45:00    NaN\n",
              "Freq: 15T, dtype: float64"
            ]
          },
          "metadata": {},
          "execution_count": 49
        }
      ]
    },
    {
      "cell_type": "code",
      "source": [
        "temp_series_freq_15min = temp_series.resample(\"15Min\").interpolate(method=\"cubic\")\n",
        "temp_series_freq_15min.head(n=10)"
      ],
      "metadata": {
        "colab": {
          "base_uri": "https://localhost:8080/"
        },
        "id": "D3OhWBkNhiB1",
        "outputId": "7b75c441-2841-4d50-ddc1-ebd3aa1bed11"
      },
      "execution_count": 50,
      "outputs": [
        {
          "output_type": "execute_result",
          "data": {
            "text/plain": [
              "2016-10-29 17:30:00    4.400000\n",
              "2016-10-29 17:45:00    4.452911\n",
              "2016-10-29 18:00:00    4.605113\n",
              "2016-10-29 18:15:00    4.829758\n",
              "2016-10-29 18:30:00    5.100000\n",
              "2016-10-29 18:45:00    5.388992\n",
              "2016-10-29 19:00:00    5.669887\n",
              "2016-10-29 19:15:00    5.915839\n",
              "2016-10-29 19:30:00    6.100000\n",
              "2016-10-29 19:45:00    6.203621\n",
              "Freq: 15T, dtype: float64"
            ]
          },
          "metadata": {},
          "execution_count": 50
        }
      ]
    },
    {
      "cell_type": "code",
      "source": [
        "temp_series.plot(label=\"Period: 1 hour\")\n",
        "temp_series_freq_15min.plot(label=\"Period: 15 minutes\")\n",
        "plt.legend()\n",
        "plt.show()"
      ],
      "metadata": {
        "colab": {
          "base_uri": "https://localhost:8080/",
          "height": 416
        },
        "id": "VB6M72DLhyrj",
        "outputId": "d6bcf70a-ac1b-4c30-870e-76f853d1c1dd"
      },
      "execution_count": 51,
      "outputs": [
        {
          "output_type": "display_data",
          "data": {
            "text/plain": [
              "<Figure size 640x480 with 1 Axes>"
            ],
            "image/png": "[encoded data removed]"
          },
          "metadata": {}
        }
      ]
    },
    {
      "cell_type": "markdown",
      "source": [
        "## TImezones"
      ],
      "metadata": {
        "id": "-HW1DEt4iE2P"
      }
    },
    {
      "cell_type": "code",
      "source": [
        "temp_series_ny = temp_series.tz_localize(\"America/New_York\")\n",
        "temp_series_ny"
      ],
      "metadata": {
        "colab": {
          "base_uri": "https://localhost:8080/"
        },
        "id": "tzxB3shyh-Wf",
        "outputId": "a8b86acb-9be7-4f16-c122-af3c76c0b12b"
      },
      "execution_count": 52,
      "outputs": [
        {
          "output_type": "execute_result",
          "data": {
            "text/plain": [
              "2016-10-29 17:30:00-04:00    4.4\n",
              "2016-10-29 18:30:00-04:00    5.1\n",
              "2016-10-29 19:30:00-04:00    6.1\n",
              "2016-10-29 20:30:00-04:00    6.2\n",
              "2016-10-29 21:30:00-04:00    6.1\n",
              "2016-10-29 22:30:00-04:00    6.1\n",
              "2016-10-29 23:30:00-04:00    5.7\n",
              "2016-10-30 00:30:00-04:00    5.2\n",
              "2016-10-30 01:30:00-04:00    4.7\n",
              "2016-10-30 02:30:00-04:00    4.1\n",
              "2016-10-30 03:30:00-04:00    3.9\n",
              "2016-10-30 04:30:00-04:00    3.5\n",
              "dtype: float64"
            ]
          },
          "metadata": {},
          "execution_count": 52
        }
      ]
    },
    {
      "cell_type": "code",
      "source": [
        "temp_series_paris = temp_series_ny.tz_convert(\"Europe/Paris\")\n",
        "temp_series_paris"
      ],
      "metadata": {
        "colab": {
          "base_uri": "https://localhost:8080/"
        },
        "id": "t-5EA_wyiW4T",
        "outputId": "6a8b6a98-0edf-47a1-ebb5-03115997a012"
      },
      "execution_count": 53,
      "outputs": [
        {
          "output_type": "execute_result",
          "data": {
            "text/plain": [
              "2016-10-29 23:30:00+02:00    4.4\n",
              "2016-10-30 00:30:00+02:00    5.1\n",
              "2016-10-30 01:30:00+02:00    6.1\n",
              "2016-10-30 02:30:00+02:00    6.2\n",
              "2016-10-30 02:30:00+01:00    6.1\n",
              "2016-10-30 03:30:00+01:00    6.1\n",
              "2016-10-30 04:30:00+01:00    5.7\n",
              "2016-10-30 05:30:00+01:00    5.2\n",
              "2016-10-30 06:30:00+01:00    4.7\n",
              "2016-10-30 07:30:00+01:00    4.1\n",
              "2016-10-30 08:30:00+01:00    3.9\n",
              "2016-10-30 09:30:00+01:00    3.5\n",
              "dtype: float64"
            ]
          },
          "metadata": {},
          "execution_count": 53
        }
      ]
    },
    {
      "cell_type": "code",
      "source": [
        "temp_series_paris_naive = temp_series_paris.tz_localize(None)\n",
        "temp_series_paris_naive"
      ],
      "metadata": {
        "colab": {
          "base_uri": "https://localhost:8080/"
        },
        "id": "XVa6zyroigHk",
        "outputId": "a83ac4bb-71dd-47c5-8fdd-cd22c9f21e6c"
      },
      "execution_count": 54,
      "outputs": [
        {
          "output_type": "execute_result",
          "data": {
            "text/plain": [
              "2016-10-29 23:30:00    4.4\n",
              "2016-10-30 00:30:00    5.1\n",
              "2016-10-30 01:30:00    6.1\n",
              "2016-10-30 02:30:00    6.2\n",
              "2016-10-30 02:30:00    6.1\n",
              "2016-10-30 03:30:00    6.1\n",
              "2016-10-30 04:30:00    5.7\n",
              "2016-10-30 05:30:00    5.2\n",
              "2016-10-30 06:30:00    4.7\n",
              "2016-10-30 07:30:00    4.1\n",
              "2016-10-30 08:30:00    3.9\n",
              "2016-10-30 09:30:00    3.5\n",
              "dtype: float64"
            ]
          },
          "metadata": {},
          "execution_count": 54
        }
      ]
    },
    {
      "cell_type": "code",
      "source": [
        "try:\n",
        "  temp_series_paris_naive.tz_localize(\"Europe/Paris\")\n",
        "except Exception as e:\n",
        "  print(type(e))\n",
        "  print(e)"
      ],
      "metadata": {
        "colab": {
          "base_uri": "https://localhost:8080/"
        },
        "id": "T5Sy1YoljIZC",
        "outputId": "24f6069e-2d98-410d-d13b-e477b2961df9"
      },
      "execution_count": 55,
      "outputs": [
        {
          "output_type": "stream",
          "name": "stdout",
          "text": [
            "<class 'pytz.exceptions.AmbiguousTimeError'>\n",
            "Cannot infer dst time from 2016-10-30 02:30:00, try using the 'ambiguous' argument\n"
          ]
        }
      ]
    },
    {
      "cell_type": "code",
      "source": [
        "temp_series_paris_naive.tz_localize(\"Europe/Paris\", ambiguous=\"infer\")"
      ],
      "metadata": {
        "colab": {
          "base_uri": "https://localhost:8080/"
        },
        "id": "Msuxe042jPEh",
        "outputId": "c13d634a-29fd-47f1-c6c5-89c078984156"
      },
      "execution_count": 56,
      "outputs": [
        {
          "output_type": "execute_result",
          "data": {
            "text/plain": [
              "2016-10-29 23:30:00+02:00    4.4\n",
              "2016-10-30 00:30:00+02:00    5.1\n",
              "2016-10-30 01:30:00+02:00    6.1\n",
              "2016-10-30 02:30:00+02:00    6.2\n",
              "2016-10-30 02:30:00+01:00    6.1\n",
              "2016-10-30 03:30:00+01:00    6.1\n",
              "2016-10-30 04:30:00+01:00    5.7\n",
              "2016-10-30 05:30:00+01:00    5.2\n",
              "2016-10-30 06:30:00+01:00    4.7\n",
              "2016-10-30 07:30:00+01:00    4.1\n",
              "2016-10-30 08:30:00+01:00    3.9\n",
              "2016-10-30 09:30:00+01:00    3.5\n",
              "dtype: float64"
            ]
          },
          "metadata": {},
          "execution_count": 56
        }
      ]
    },
    {
      "cell_type": "markdown",
      "source": [
        "## Periods"
      ],
      "metadata": {
        "id": "su2Vdtahjb6b"
      }
    },
    {
      "cell_type": "code",
      "source": [
        "quarters = pd.period_range('2016Q1', periods=8, freq='Q')\n",
        "quarters"
      ],
      "metadata": {
        "colab": {
          "base_uri": "https://localhost:8080/"
        },
        "id": "d_tAtGNIjYyz",
        "outputId": "0769e605-0186-4d3a-a8f3-1266098c1006"
      },
      "execution_count": 57,
      "outputs": [
        {
          "output_type": "execute_result",
          "data": {
            "text/plain": [
              "PeriodIndex(['2016Q1', '2016Q2', '2016Q3', '2016Q4', '2017Q1', '2017Q2',\n",
              "             '2017Q3', '2017Q4'],\n",
              "            dtype='period[Q-DEC]')"
            ]
          },
          "metadata": {},
          "execution_count": 57
        }
      ]
    },
    {
      "cell_type": "code",
      "source": [
        "quarters + 3"
      ],
      "metadata": {
        "colab": {
          "base_uri": "https://localhost:8080/"
        },
        "id": "6TBFSrY_kJCJ",
        "outputId": "ba04b795-0176-41c9-8d82-4921236de537"
      },
      "execution_count": 59,
      "outputs": [
        {
          "output_type": "execute_result",
          "data": {
            "text/plain": [
              "PeriodIndex(['2016Q4', '2017Q1', '2017Q2', '2017Q3', '2017Q4', '2018Q1',\n",
              "             '2018Q2', '2018Q3'],\n",
              "            dtype='period[Q-DEC]')"
            ]
          },
          "metadata": {},
          "execution_count": 59
        }
      ]
    },
    {
      "cell_type": "code",
      "source": [],
      "metadata": {
        "id": "nHhlhGcPl8Ui"
      },
      "execution_count": null,
      "outputs": []
    }
  ]
}