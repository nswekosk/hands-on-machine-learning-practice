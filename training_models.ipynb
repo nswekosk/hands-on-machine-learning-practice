{
  "nbformat": 4,
  "nbformat_minor": 0,
  "metadata": {
    "colab": {
      "provenance": [],
      "authorship_tag": "ABX9TyPEubUZwJsZ14j5JGHbJcck"
    },
    "kernelspec": {
      "name": "python3",
      "display_name": "Python 3"
    },
    "language_info": {
      "name": "python"
    }
  },
  "cells": [
    {
      "cell_type": "code",
      "source": [
        "import sklearn\n",
        "assert sklearn.__version__ >= \"0.20\"\n",
        "\n",
        "# Common imports\n",
        "import numpy as np\n",
        "import os\n",
        "\n",
        "# to make this notebook's output stable across runs\n",
        "np.random.seed(42)\n",
        "\n",
        "# To plot pretty figures\n",
        "%matplotlib inline\n",
        "import matplotlib as mpl\n",
        "import matplotlib.pyplot as plt"
      ],
      "metadata": {
        "id": "-9QQHUJ1kk5s"
      },
      "execution_count": null,
      "outputs": []
    },
    {
      "cell_type": "code",
      "source": [
        "# Using the normal equation to create a closed form solution to finding parameters that minimize a cost function\n",
        "\n",
        "import numpy as np\n",
        "\n",
        "X = 2 * np.random.rand(100, 1)\n",
        "y = 4 + 3 * X + np.random.randn(100, 1);\n",
        "\n",
        "X_b = np.c_[np.ones((100, 1)), X];\n",
        "theta_best = np.linalg.inv(X_b.T.dot(X_b)).dot(X_b.T).dot(y);\n",
        "\n",
        "print(theta_best);"
      ],
      "metadata": {
        "colab": {
          "base_uri": "https://localhost:8080/"
        },
        "id": "pEKfs3VRkoSM",
        "outputId": "6c1c7b1c-030e-4426-908f-5a883d95e5bc"
      },
      "execution_count": null,
      "outputs": [
        {
          "output_type": "stream",
          "name": "stdout",
          "text": [
            "[[4.21509616]\n",
            " [2.77011339]]\n"
          ]
        }
      ]
    },
    {
      "cell_type": "code",
      "source": [
        "# making predictions using these parameters\n",
        "\n",
        "X_new = np.array([[0], [2]]);\n",
        "X_new_b = np.c_[np.ones((2, 1)), X_new];\n",
        "y_predict = X_new_b.dot(theta_best);\n",
        "print(y_predict);"
      ],
      "metadata": {
        "colab": {
          "base_uri": "https://localhost:8080/"
        },
        "id": "W4iekDgzik20",
        "outputId": "458a7910-270f-460e-e2e8-02e64bdbf461"
      },
      "execution_count": null,
      "outputs": [
        {
          "output_type": "stream",
          "name": "stdout",
          "text": [
            "[[4.21509616]\n",
            " [9.75532293]]\n"
          ]
        }
      ]
    },
    {
      "cell_type": "code",
      "source": [
        "\n",
        "\n",
        "# plotting our model's predictions\n",
        "plt.plot(X_new, y_predict, \"r-\");\n",
        "plt.plot(X, y, \"b.\");\n",
        "plt.axis()\n",
        "\n"
      ],
      "metadata": {
        "colab": {
          "base_uri": "https://localhost:8080/",
          "height": 448
        },
        "id": "xVpcBOe6kbRo",
        "outputId": "42a5d2a3-8b48-4313-b546-384c27abcf2d"
      },
      "execution_count": null,
      "outputs": [
        {
          "output_type": "execute_result",
          "data": {
            "text/plain": [
              "(-0.1, 2.1, 2.8477454677318, 11.434711713953867)"
            ]
          },
          "metadata": {},
          "execution_count": 13
        },
        {
          "output_type": "display_data",
          "data": {
            "text/plain": [
              "<Figure size 640x480 with 1 Axes>"
            ],
            "image/png": "[encoded data removed]"
          },
          "metadata": {}
        }
      ]
    },
    {
      "cell_type": "code",
      "source": [
        "# Perform LinearRegression using SciKitLearn\n",
        "\n",
        "from sklearn.linear_model import LinearRegression\n",
        "\n",
        "lin_reg = LinearRegression();\n",
        "lin_reg.fit(X, y);\n",
        "print(\"Intercept: (\", lin_reg.intercept_, \") Coef: (\", lin_reg.coef_, \")\");\n",
        "print(\"Prediction: (\", lin_reg.predict(X_new), \")\");"
      ],
      "metadata": {
        "colab": {
          "base_uri": "https://localhost:8080/"
        },
        "id": "mz7eir99kta9",
        "outputId": "5e338ba7-92f7-4cc6-ff43-5fcd1b958e10"
      },
      "execution_count": null,
      "outputs": [
        {
          "output_type": "stream",
          "name": "stdout",
          "text": [
            "Intercept: ( [4.21509616] ) Coef: ( [[2.77011339]] )\n",
            "Prediction: ( [[4.21509616]\n",
            " [9.75532293]] )\n"
          ]
        }
      ]
    },
    {
      "cell_type": "code",
      "source": [
        "# Calculating gradient descent\n",
        "\n",
        "eta = 0.1 #learning step\n",
        "n_iterations = 1000\n",
        "m = 100\n",
        "\n",
        "theta = np.random.randn(2, 1); #random initialization\n",
        "\n",
        "for iteration in range(n_iterations):\n",
        "  gradients = 2 / m * X_b.T.dot(X_b.dot(theta) - y);\n",
        "  theta = theta - eta * gradients\n",
        "\n",
        "print(\"T: (\", theta, \")\");"
      ],
      "metadata": {
        "colab": {
          "base_uri": "https://localhost:8080/"
        },
        "id": "Q-KA9krWlZrK",
        "outputId": "aed4801d-bcff-4796-8c26-f06a72ca51bb"
      },
      "execution_count": null,
      "outputs": [
        {
          "output_type": "stream",
          "name": "stdout",
          "text": [
            "T: ( [[4.21509616]\n",
            " [2.77011339]] )\n"
          ]
        }
      ]
    },
    {
      "cell_type": "code",
      "source": [
        "# creating Stochastic Gradient Descent model in SciKitLearn\n",
        "\n",
        "from sklearn.linear_model import SGDRegressor\n",
        "\n",
        "sgd_reg = SGDRegressor(max_iter=1000, tol=1e-3, penalty=None, eta0=0.1);\n",
        "sgd_reg.fit(X, y.ravel());\n",
        "print(\"Intercept: (\", sgd_reg.intercept_, \") Coef: (\", sgd_reg.coef_, \")\");\n",
        "print(\"Prediction: (\", sgd_reg.predict(X_new), \")\");"
      ],
      "metadata": {
        "colab": {
          "base_uri": "https://localhost:8080/"
        },
        "id": "CEgsot8cmTd7",
        "outputId": "cb209c8a-a8d3-4e86-a8cb-2af9ad2e5308"
      },
      "execution_count": null,
      "outputs": [
        {
          "output_type": "stream",
          "name": "stdout",
          "text": [
            "Intercept: ( [4.21731217] ) Coef: ( [2.76060865] )\n",
            "Prediction: ( [4.21731217 9.73852946] )\n"
          ]
        }
      ]
    },
    {
      "cell_type": "code",
      "source": [
        "# Create some nonlinear data so we can focus on using Polynomial regressors\n",
        "m = 100\n",
        "X = 6 * np.random.rand(m, 1) - 3\n",
        "y = 0.5 + X**2 + X + 2 + np.random.randn(m, 1);"
      ],
      "metadata": {
        "id": "6G8OrwqFnFT_"
      },
      "execution_count": null,
      "outputs": []
    },
    {
      "cell_type": "code",
      "source": [
        "plt.plot(X, y, \"b.\")\n",
        "plt.xlabel(\"$x_1$\", fontsize=18)\n",
        "plt.ylabel(\"$y$\", rotation=0, fontsize=18)\n",
        "plt.axis([-3, 3, 0, 10])\n",
        "plt.show()"
      ],
      "metadata": {
        "colab": {
          "base_uri": "https://localhost:8080/",
          "height": 465
        },
        "id": "GOcxAHhLmzPM",
        "outputId": "900a7748-fb23-4299-e668-89db7f722ea8"
      },
      "execution_count": null,
      "outputs": [
        {
          "output_type": "display_data",
          "data": {
            "text/plain": [
              "<Figure size 640x480 with 1 Axes>"
            ],
            "image/png": "[encoded data removed]"
          },
          "metadata": {}
        }
      ]
    },
    {
      "cell_type": "code",
      "source": [
        "# add powers to each feature in order to work with nonlinear data\n",
        "\n",
        "from sklearn.preprocessing import PolynomialFeatures\n",
        "poly_features = PolynomialFeatures(degree=2, include_bias=False);\n",
        "X_poly = poly_features.fit_transform(X);\n",
        "print(X[0]);\n",
        "X_poly[0]"
      ],
      "metadata": {
        "colab": {
          "base_uri": "https://localhost:8080/"
        },
        "id": "I7bM231wnoIx",
        "outputId": "f9d262cf-068c-4ed6-a975-e4e01de41258"
      },
      "execution_count": null,
      "outputs": [
        {
          "output_type": "stream",
          "name": "stdout",
          "text": [
            "[0.87283378]\n"
          ]
        },
        {
          "output_type": "execute_result",
          "data": {
            "text/plain": [
              "array([0.87283378, 0.7618388 ])"
            ]
          },
          "metadata": {},
          "execution_count": 25
        }
      ]
    },
    {
      "cell_type": "code",
      "source": [
        "lin_reg = LinearRegression();\n",
        "lin_reg.fit(X_poly, y);\n",
        "lin_reg.intercept_, lin_reg.coef_"
      ],
      "metadata": {
        "colab": {
          "base_uri": "https://localhost:8080/"
        },
        "id": "GBDFQT2loBbR",
        "outputId": "6de76a7f-8d8a-4e13-d1e6-f4f8d7ece496"
      },
      "execution_count": null,
      "outputs": [
        {
          "output_type": "execute_result",
          "data": {
            "text/plain": [
              "(array([2.57420083]), array([[0.88540576, 0.9768815 ]]))"
            ]
          },
          "metadata": {},
          "execution_count": 26
        }
      ]
    },
    {
      "cell_type": "code",
      "source": [
        "X_new=np.linspace(-3, 3, 100).reshape(100, 1)\n",
        "X_new_poly = poly_features.transform(X_new)\n",
        "y_new = lin_reg.predict(X_new_poly)\n",
        "plt.plot(X, y, \"b.\")\n",
        "plt.plot(X_new, y_new, \"r-\", linewidth=2, label=\"Predictions\")\n",
        "plt.xlabel(\"$x_1$\", fontsize=18)\n",
        "plt.ylabel(\"$y$\", rotation=0, fontsize=18)\n",
        "plt.legend(loc=\"upper left\", fontsize=14)\n",
        "plt.axis([-3, 3, 0, 10])\n",
        "plt.show()"
      ],
      "metadata": {
        "colab": {
          "base_uri": "https://localhost:8080/",
          "height": 465
        },
        "id": "K9Cn2KHxoTM1",
        "outputId": "10285327-79bc-4c36-9792-fb996151c3b0"
      },
      "execution_count": null,
      "outputs": [
        {
          "output_type": "display_data",
          "data": {
            "text/plain": [
              "<Figure size 640x480 with 1 Axes>"
            ],
            "image/png": "[encoded data removed]"
          },
          "metadata": {}
        }
      ]
    },
    {
      "cell_type": "code",
      "source": [
        "# If a model performs well on the training data but generalizes poorly according to the cross-validation metrics, then your model is overfitting\n",
        "# If a model performs poorly on both, then it is underfitting\n"
      ],
      "metadata": {
        "id": "MtBJh1yuoaQF"
      },
      "execution_count": null,
      "outputs": []
    },
    {
      "cell_type": "code",
      "source": [
        "# regularlize a model with Ridge regresion with a closed form solution\n",
        "from sklearn.linear_model import Ridge\n",
        "ridge_reg = Ridge(alpha=1, solver=\"cholesky\")\n",
        "ridge_reg.fit(X, y);\n",
        "print(ridge_reg.predict([[1.5]]));"
      ],
      "metadata": {
        "colab": {
          "base_uri": "https://localhost:8080/"
        },
        "id": "nDAwL2-5pe8X",
        "outputId": "8cbb61ad-6e3d-49e1-819d-835dee37b73b"
      },
      "execution_count": null,
      "outputs": [
        {
          "output_type": "stream",
          "name": "stdout",
          "text": [
            "[[6.94393872]]\n"
          ]
        }
      ]
    },
    {
      "cell_type": "code",
      "source": [
        "sgd_reg = SGDRegressor(penalty=\"l2\")\n",
        "sgd_reg.fit(X, y.ravel());\n",
        "print(sgd_reg.predict([[1.5]]));"
      ],
      "metadata": {
        "colab": {
          "base_uri": "https://localhost:8080/"
        },
        "id": "p-1gsd80qAi7",
        "outputId": "f6dc5c75-6307-487b-eb55-5d3b7b7d7463"
      },
      "execution_count": null,
      "outputs": [
        {
          "output_type": "stream",
          "name": "stdout",
          "text": [
            "[6.93562885]\n"
          ]
        }
      ]
    },
    {
      "cell_type": "code",
      "source": [
        "# import the Lasso class\n",
        "from sklearn.linear_model import Lasso\n",
        "lasso_reg = Lasso(alpha=0.1);\n",
        "lasso_reg.fit(X, y);\n",
        "print(lasso_reg.predict([[1.5]]));"
      ],
      "metadata": {
        "colab": {
          "base_uri": "https://localhost:8080/"
        },
        "id": "MIMBGMGPqM0P",
        "outputId": "3a82cbae-b159-4164-dc65-8267e1948429"
      },
      "execution_count": null,
      "outputs": [
        {
          "output_type": "stream",
          "name": "stdout",
          "text": [
            "[6.90415392]\n"
          ]
        }
      ]
    },
    {
      "cell_type": "code",
      "source": [
        "# Use the ElasticNet\n",
        "from sklearn.linear_model import ElasticNet\n",
        "elastic_net = ElasticNet(alpha=0.1, l1_ratio=0.5)\n",
        "elastic_net.fit(X, y);\n",
        "print(elastic_net.predict([[1.5]]));"
      ],
      "metadata": {
        "colab": {
          "base_uri": "https://localhost:8080/"
        },
        "id": "-wqFZziHqf9P",
        "outputId": "0499667d-41f1-4391-e00c-553dc43d71f8"
      },
      "execution_count": null,
      "outputs": [
        {
          "output_type": "stream",
          "name": "stdout",
          "text": [
            "[6.90816087]\n"
          ]
        }
      ]
    },
    {
      "cell_type": "code",
      "source": [
        "# build logistic regression model and plot the results\n",
        "from sklearn import datasets\n",
        "iris = datasets.load_iris();\n",
        "print(list(iris.keys()));"
      ],
      "metadata": {
        "colab": {
          "base_uri": "https://localhost:8080/"
        },
        "id": "eOMjw5rWquwR",
        "outputId": "504092c5-2863-4fe3-ea5e-7458b45a6af4"
      },
      "execution_count": null,
      "outputs": [
        {
          "output_type": "stream",
          "name": "stdout",
          "text": [
            "['data', 'target', 'frame', 'target_names', 'DESCR', 'feature_names', 'filename', 'data_module']\n"
          ]
        }
      ]
    },
    {
      "cell_type": "code",
      "source": [
        "X = iris[\"data\"][:, 3:];\n",
        "y = (iris[\"target\"] == 2).astype(np.int);"
      ],
      "metadata": {
        "colab": {
          "base_uri": "https://localhost:8080/"
        },
        "id": "kXMWhnO-rmTd",
        "outputId": "63084101-cca1-416b-c832-d37a2e4d0afd"
      },
      "execution_count": null,
      "outputs": [
        {
          "output_type": "stream",
          "name": "stderr",
          "text": [
            "<ipython-input-37-9196f76714e2>:2: DeprecationWarning: `np.int` is a deprecated alias for the builtin `int`. To silence this warning, use `int` by itself. Doing this will not modify any behavior and is safe. When replacing `np.int`, you may wish to use e.g. `np.int64` or `np.int32` to specify the precision. If you wish to review your current use, check the release note link for additional information.\n",
            "Deprecated in NumPy 1.20; for more details and guidance: https://numpy.org/devdocs/release/1.20.0-notes.html#deprecations\n",
            "  y = (iris[\"target\"] == 2).astype(np.int);\n"
          ]
        }
      ]
    },
    {
      "cell_type": "code",
      "source": [
        "from sklearn.linear_model import LogisticRegression\n",
        "log_reg = LogisticRegression();\n",
        "log_reg.fit(X, y);"
      ],
      "metadata": {
        "id": "hR7tFCrUrwGK"
      },
      "execution_count": null,
      "outputs": []
    },
    {
      "cell_type": "code",
      "source": [
        "X_new = np.linspace(0, 3, 1000).reshape(-1, 1)\n",
        "y_proba = log_reg.predict_proba(X_new)\n",
        "\n",
        "plt.plot(X_new, y_proba[:, 1], \"g-\", linewidth=2, label=\"Iris virginica\")\n",
        "plt.plot(X_new, y_proba[:, 0], \"b--\", linewidth=2, label=\"Not Iris virginica\")"
      ],
      "metadata": {
        "colab": {
          "base_uri": "https://localhost:8080/",
          "height": 448
        },
        "id": "9QguhEtor56R",
        "outputId": "edbdb91b-a527-4fd4-9cd7-a8f42c2cc351"
      },
      "execution_count": null,
      "outputs": [
        {
          "output_type": "execute_result",
          "data": {
            "text/plain": [
              "[<matplotlib.lines.Line2D at 0x7f790ba01570>]"
            ]
          },
          "metadata": {},
          "execution_count": 39
        },
        {
          "output_type": "display_data",
          "data": {
            "text/plain": [
              "<Figure size 640x480 with 1 Axes>"
            ],
            "image/png": "[encoded data removed]"
          },
          "metadata": {}
        }
      ]
    },
    {
      "cell_type": "code",
      "source": [
        "# has a decision boundary at about 1.6\n",
        "print(log_reg.predict([[1.7], [1.5]]))"
      ],
      "metadata": {
        "colab": {
          "base_uri": "https://localhost:8080/"
        },
        "id": "wJjJ_5fHsIsm",
        "outputId": "ceeb1771-966c-441e-fc30-61d5e2e7bb58"
      },
      "execution_count": null,
      "outputs": [
        {
          "output_type": "stream",
          "name": "stdout",
          "text": [
            "[1 0]\n"
          ]
        }
      ]
    },
    {
      "cell_type": "code",
      "source": [
        "# Use a SoftMax regressive model for multinomial logistic regression\n",
        "X = iris[\"data\"][:, (2, 3)]\n",
        "y = iris[\"target\"]\n",
        "\n",
        "softmax_reg = LogisticRegression(multi_class=\"multinomial\", solver=\"lbfgs\", C=10);\n",
        "softmax_reg.fit(X, y);\n",
        "\n",
        "print(softmax_reg.predict([[5, 2]]));"
      ],
      "metadata": {
        "colab": {
          "base_uri": "https://localhost:8080/"
        },
        "id": "BWAwlf7SsRuV",
        "outputId": "220fb366-0117-4d3a-9d87-377c84ced472"
      },
      "execution_count": null,
      "outputs": [
        {
          "output_type": "stream",
          "name": "stdout",
          "text": [
            "[2]\n"
          ]
        }
      ]
    },
    {
      "cell_type": "code",
      "source": [],
      "metadata": {
        "id": "ftKPTPO2s39w"
      },
      "execution_count": null,
      "outputs": []
    }
  ]
}