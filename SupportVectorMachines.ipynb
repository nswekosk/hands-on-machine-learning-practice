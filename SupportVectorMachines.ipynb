{
  "nbformat": 4,
  "nbformat_minor": 0,
  "metadata": {
    "colab": {
      "provenance": [],
      "authorship_tag": "ABX9TyMyexsPvKMuhhDj3NhHvoNU"
    },
    "kernelspec": {
      "name": "python3",
      "display_name": "Python 3"
    },
    "language_info": {
      "name": "python"
    }
  },
  "cells": [
    {
      "cell_type": "code",
      "execution_count": 3,
      "metadata": {
        "colab": {
          "base_uri": "https://localhost:8080/"
        },
        "id": "gNk07d368b94",
        "outputId": "de5a6b53-d8fe-4a1d-8916-6b8f634e8e8e"
      },
      "outputs": [
        {
          "output_type": "stream",
          "name": "stdout",
          "text": [
            "[1.]\n"
          ]
        }
      ],
      "source": [
        "# Load the iris daaset, scale the features, and then train a linear SVM model to detect Iris vrginica flowers\n",
        "\n",
        "import numpy as np\n",
        "from sklearn import datasets\n",
        "from sklearn.pipeline import Pipeline\n",
        "from sklearn.preprocessing import StandardScaler\n",
        "from sklearn.svm import LinearSVC\n",
        "\n",
        "iris = datasets.load_iris();\n",
        "X = iris[\"data\"][:, (2, 3)] #petal length, petal widt\n",
        "y = (iris[\"target\"] == 2).astype(np.float64) # Iris virginica\n",
        "\n",
        "svm_clf = Pipeline([\n",
        "    (\"scaler\", StandardScaler()),\n",
        "    (\"linear_svc\", LinearSVC(C=1, loss=\"hinge\"))\n",
        "]);\n",
        "svm_clf.fit(X, y);\n",
        "print(svm_clf.predict([[5.5, 1.7]]));"
      ]
    },
    {
      "cell_type": "code",
      "source": [
        "# complete nonlinear SVM classification by using Polynomial features\n",
        "\n",
        "from sklearn.datasets import make_moons\n",
        "from sklearn.pipeline import Pipeline\n",
        "from sklearn.preprocessing import PolynomialFeatures\n",
        "\n",
        "X, y = make_moons(n_samples=100, noise=0.15);\n",
        "polynomial_svm_clf = Pipeline([\n",
        "    (\"poly_features\", PolynomialFeatures(degree=3)),\n",
        "    (\"scaler\", StandardScaler()),\n",
        "    (\"linear_svc\", LinearSVC(C=1, loss=\"hinge\"))\n",
        "])"
      ],
      "metadata": {
        "id": "2mxIQ9qW9o0f"
      },
      "execution_count": 4,
      "outputs": []
    },
    {
      "cell_type": "code",
      "source": [
        "# complete nonlinear SVM classification using a polynomial kernel\n",
        "\n",
        "from sklearn.svm import SVC\n",
        "\n",
        "poly_kernel_svm_clf = Pipeline([\n",
        "    (\"scaler\", StandardScaler()),\n",
        "    (\"svm_clf\", SVC(kernel=\"poly\", degree=3, coef0=1, C=5))\n",
        "])"
      ],
      "metadata": {
        "id": "NUs5-IUu-oZQ"
      },
      "execution_count": 6,
      "outputs": []
    },
    {
      "cell_type": "code",
      "source": [
        "# add similiar features to a support vector model using the kernel trick in SciKitLearn with a Gaussian RBF kernel\n",
        "\n",
        "rbf_kernel_svm_clf = Pipeline([\n",
        "    (\"scaler\", StandardScaler()),\n",
        "    (\"svm_clf\", SVC(kernel=\"rbf\", gamma=5, C=0.001))\n",
        "]);\n",
        "rbf_kernel_svm_clf.fit(X, y);"
      ],
      "metadata": {
        "id": "wYclygWK-_Yt"
      },
      "execution_count": 8,
      "outputs": []
    },
    {
      "cell_type": "code",
      "source": [
        "# implement linear regression using a support vector model\n",
        "\n",
        "from sklearn.svm import LinearSVR\n",
        "\n",
        "linear_svr_reg = LinearSVR(epsilon=1.5);\n",
        "linear_svr_reg.fit(X, y);"
      ],
      "metadata": {
        "id": "ZC4VrpBt_Ye9"
      },
      "execution_count": 9,
      "outputs": []
    },
    {
      "cell_type": "code",
      "source": [
        "# implement nonlinear regression using a support vector model\n",
        "\n",
        "from sklearn.svm import SVR\n",
        "\n",
        "svm_poly_reg = SVR(kernel=\"poly\", degree=2, C=100, epsilon=0.1);\n",
        "svm_poly_reg.fit(X, y);"
      ],
      "metadata": {
        "id": "XCa1EyvU_yje"
      },
      "execution_count": 10,
      "outputs": []
    },
    {
      "cell_type": "code",
      "source": [],
      "metadata": {
        "id": "C2_QPNlcAE2b"
      },
      "execution_count": null,
      "outputs": []
    }
  ]
}