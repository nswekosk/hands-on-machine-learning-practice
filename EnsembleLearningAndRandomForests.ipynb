{
  "nbformat": 4,
  "nbformat_minor": 0,
  "metadata": {
    "colab": {
      "provenance": [],
      "authorship_tag": "ABX9TyPiFDBRlCFG9PBcgI+iFmkp"
    },
    "kernelspec": {
      "name": "python3",
      "display_name": "Python 3"
    },
    "language_info": {
      "name": "python"
    }
  },
  "cells": [
    {
      "cell_type": "code",
      "execution_count": 11,
      "metadata": {
        "id": "giGCdbVfVHJc"
      },
      "outputs": [],
      "source": [
        "# create and train a voiting classifier in Sikit-Learn composed of randomForsest, VOtingClassifier, and Logisitic Regression\n",
        "\n",
        "from sklearn import datasets\n",
        "from sklearn.ensemble import VotingClassifier\n",
        "from sklearn.ensemble import RandomForestClassifier\n",
        "from sklearn.linear_model import LogisticRegression\n",
        "from sklearn.svm import SVC\n",
        "from sklearn.model_selection import train_test_split\n",
        "\n",
        "X, y = datasets.make_moons(n_samples=500, noise=.3, random_state=42);\n",
        "X_train, X_test, y_train, y_test = train_test_split(X, y, test_size=0.33, random_state=42)\n",
        "\n",
        "log_clf = LogisticRegression(solver=\"lbfgs\", random_state=42)\n",
        "rnd_clf = RandomForestClassifier(n_estimators=100, random_state=42)\n",
        "svm_clf = SVC(gamma=\"scale\", random_state=42)\n",
        "\n",
        "voting_clf = VotingClassifier(\n",
        "    estimators=[\n",
        "        (\"lr\", log_clf),\n",
        "        (\"rd\", rnd_clf),\n",
        "        (\"sv\", svm_clf)\n",
        "    ],\n",
        "    voting=\"hard\"\n",
        ");\n",
        "\n",
        "voting_clf.fit(X_train, y_train);"
      ]
    },
    {
      "cell_type": "code",
      "source": [
        "# view the accuracy of each model\n",
        "from sklearn.metrics import accuracy_score;\n",
        "\n",
        "for clf in (log_clf, rnd_clf, svm_clf, voting_clf):\n",
        "  clf.fit(X_train, y_train);\n",
        "  y_pred = clf.predict(X_test)\n",
        "  print(clf.__class__.__name__, accuracy_score(y_test, y_pred));"
      ],
      "metadata": {
        "colab": {
          "base_uri": "https://localhost:8080/"
        },
        "id": "NK9ytLkkZcJT",
        "outputId": "a08176c3-c946-4fff-e44e-b9b7305d0ea2"
      },
      "execution_count": 12,
      "outputs": [
        {
          "output_type": "stream",
          "name": "stdout",
          "text": [
            "LogisticRegression 0.8666666666666667\n",
            "RandomForestClassifier 0.9090909090909091\n",
            "SVC 0.9090909090909091\n",
            "VotingClassifier 0.9151515151515152\n"
          ]
        }
      ]
    },
    {
      "cell_type": "code",
      "source": [
        "#Train an ensemble of 500 Decision Tree classifiers: each is trained on 100 training instances randomly sampled from the training set with replacement.\n",
        "\n",
        "from sklearn.ensemble import BaggingClassifier\n",
        "from sklearn.tree import DecisionTreeClassifier\n",
        "\n",
        "bag_clf = BaggingClassifier(\n",
        "    DecisionTreeClassifier(),\n",
        "    n_estimators=500,\n",
        "    max_samples=100,\n",
        "    bootstrap=True,\n",
        "    n_jobs=-1\n",
        ");\n",
        "\n",
        "bag_clf.fit(X_train, y_train);\n",
        "y_pred = bag_clf.predict(X_test);\n",
        "print(\"Accuracy:\", accuracy_score(y_test, y_pred));"
      ],
      "metadata": {
        "colab": {
          "base_uri": "https://localhost:8080/"
        },
        "id": "9sOpJXUgaC5R",
        "outputId": "dc7e9373-8ad4-45ca-80f8-981cf9d99590"
      },
      "execution_count": 15,
      "outputs": [
        {
          "output_type": "stream",
          "name": "stdout",
          "text": [
            "Accuracy: 0.9272727272727272\n"
          ]
        }
      ]
    },
    {
      "cell_type": "code",
      "source": [
        "# Train a bagging classifer with out-of-bag evaluation\n",
        "\n",
        "bag_clf = BaggingClassifier(\n",
        "    DecisionTreeClassifier(),\n",
        "    n_estimators=500,\n",
        "    max_samples=100,\n",
        "    bootstrap=True,\n",
        "    n_jobs=-1,\n",
        "    oob_score=True\n",
        ");\n",
        "bag_clf.fit(X_train, y_train);\n",
        "print(\"OOB Score:\", bag_clf.oob_score_)"
      ],
      "metadata": {
        "colab": {
          "base_uri": "https://localhost:8080/"
        },
        "id": "aq86KgGXb5nL",
        "outputId": "d0a3b116-439d-4874-d113-854a1c4444b7"
      },
      "execution_count": 16,
      "outputs": [
        {
          "output_type": "stream",
          "name": "stdout",
          "text": [
            "OOB Score: 0.9164179104477612\n"
          ]
        }
      ]
    },
    {
      "cell_type": "code",
      "source": [
        "y_pred = bag_clf.predict(X_test);\n",
        "print(\"Prediction:\", accuracy_score(y_test, y_pred))"
      ],
      "metadata": {
        "colab": {
          "base_uri": "https://localhost:8080/"
        },
        "id": "13c1dXdecsiN",
        "outputId": "f083070e-91d1-4020-8fea-5bed61086280"
      },
      "execution_count": 17,
      "outputs": [
        {
          "output_type": "stream",
          "name": "stdout",
          "text": [
            "Prediction: 0.9212121212121213\n"
          ]
        }
      ]
    },
    {
      "cell_type": "code",
      "source": [
        "# Train a random forest classifier (Baggling classifier with a decision tree classifier)\n",
        "from sklearn.ensemble import RandomForestClassifier\n",
        "\n",
        "rnd_clf = RandomForestClassifier(n_estimators=500, max_leaf_nodes=16, n_jobs=-1);\n",
        "rnd_clf.fit(X_train, y_train);\n",
        "y_pred_rf = rnd_clf.predict(X_test);\n",
        "print(\"Accuracy:\", accuracy_score(y_test, y_pred_rf));\n",
        "\n",
        "'''\n",
        "similar bagging classifier as the RandomForestClassifier above\n",
        "\n",
        "bag_clf = BaggingClassifier(\n",
        "    DecisionTreeClassifier(\n",
        "        splitter=\"random\",\n",
        "        max_leaf_nodes=16\n",
        "    ),\n",
        "    n_estimators=500,\n",
        "    max_samples=1.0,\n",
        "    bootstrap=True,\n",
        "    n_jobs=-1\n",
        ");\n",
        "\n",
        "'''"
      ],
      "metadata": {
        "colab": {
          "base_uri": "https://localhost:8080/",
          "height": 89
        },
        "id": "TFWy-M-cc2iz",
        "outputId": "4ccd68c7-6b00-4477-92f8-2ab74648f8d8"
      },
      "execution_count": 21,
      "outputs": [
        {
          "output_type": "stream",
          "name": "stdout",
          "text": [
            "Accuracy: 0.9212121212121213\n"
          ]
        },
        {
          "output_type": "execute_result",
          "data": {
            "text/plain": [
              "'\\nsimilar bagging classifier as the RandomForestClassifier above\\n\\nbag_clf = BaggingClassifier(\\n    DecisionTreeClassifier(\\n        splitter=\"random\",\\n        max_leaf_nodes=16\\n    ),\\n    n_estimators=500,\\n    max_samples=1.0,\\n    bootstrap=True,\\n    n_jobs=-1\\n);\\n\\n'"
            ],
            "application/vnd.google.colaboratory.intrinsic+json": {
              "type": "string"
            }
          },
          "metadata": {},
          "execution_count": 21
        }
      ]
    },
    {
      "cell_type": "code",
      "source": [
        "# define the importance of each feature using a RandomForestClassifier\n",
        "\n",
        "from sklearn.datasets import load_iris\n",
        "\n",
        "iris = load_iris();\n",
        "rnd_clf = RandomForestClassifier(n_estimators=500, n_jobs=-1);\n",
        "rnd_clf.fit(iris[\"data\"], iris[\"target\"]);\n",
        "for name, score in zip(iris[\"feature_names\"], rnd_clf.feature_importances_):\n",
        "  print(name, score)"
      ],
      "metadata": {
        "colab": {
          "base_uri": "https://localhost:8080/"
        },
        "id": "KGuP88Z1dmEu",
        "outputId": "415ab5c6-85bd-4e2b-ba13-107069e56ce4"
      },
      "execution_count": 23,
      "outputs": [
        {
          "output_type": "stream",
          "name": "stdout",
          "text": [
            "sepal length (cm) 0.09571711034942516\n",
            "sepal width (cm) 0.023808353529291677\n",
            "petal length (cm) 0.45641312029477576\n",
            "petal width (cm) 0.42406141582650747\n"
          ]
        }
      ]
    },
    {
      "cell_type": "code",
      "source": [
        "# "
      ],
      "metadata": {
        "id": "z44vFpDle8mD"
      },
      "execution_count": null,
      "outputs": []
    }
  ]
}