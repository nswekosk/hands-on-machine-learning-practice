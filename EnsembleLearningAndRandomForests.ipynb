{
  "nbformat": 4,
  "nbformat_minor": 0,
  "metadata": {
    "colab": {
      "provenance": [],
      "authorship_tag": "ABX9TyMo4AR3JjWCmtqJGJBVqdmZ"
    },
    "kernelspec": {
      "name": "python3",
      "display_name": "Python 3"
    },
    "language_info": {
      "name": "python"
    }
  },
  "cells": [
    {
      "cell_type": "code",
      "execution_count": 11,
      "metadata": {
        "id": "giGCdbVfVHJc"
      },
      "outputs": [],
      "source": [
        "# create and train a voiting classifier in Sikit-Learn composed of randomForsest, VOtingClassifier, and Logisitic Regression\n",
        "\n",
        "from sklearn import datasets\n",
        "from sklearn.ensemble import VotingClassifier\n",
        "from sklearn.ensemble import RandomForestClassifier\n",
        "from sklearn.linear_model import LogisticRegression\n",
        "from sklearn.svm import SVC\n",
        "from sklearn.model_selection import train_test_split\n",
        "\n",
        "X, y = datasets.make_moons(n_samples=500, noise=.3, random_state=42);\n",
        "X_train, X_test, y_train, y_test = train_test_split(X, y, test_size=0.33, random_state=42)\n",
        "\n",
        "log_clf = LogisticRegression(solver=\"lbfgs\", random_state=42)\n",
        "rnd_clf = RandomForestClassifier(n_estimators=100, random_state=42)\n",
        "svm_clf = SVC(gamma=\"scale\", random_state=42)\n",
        "\n",
        "voting_clf = VotingClassifier(\n",
        "    estimators=[\n",
        "        (\"lr\", log_clf),\n",
        "        (\"rd\", rnd_clf),\n",
        "        (\"sv\", svm_clf)\n",
        "    ],\n",
        "    voting=\"hard\"\n",
        ");\n",
        "\n",
        "voting_clf.fit(X_train, y_train);"
      ]
    },
    {
      "cell_type": "code",
      "source": [
        "# view the accuracy of each model\n",
        "from sklearn.metrics import accuracy_score;\n",
        "\n",
        "for clf in (log_clf, rnd_clf, svm_clf, voting_clf):\n",
        "  clf.fit(X_train, y_train);\n",
        "  y_pred = clf.predict(X_test)\n",
        "  print(clf.__class__.__name__, accuracy_score(y_test, y_pred));"
      ],
      "metadata": {
        "colab": {
          "base_uri": "https://localhost:8080/"
        },
        "id": "NK9ytLkkZcJT",
        "outputId": "a08176c3-c946-4fff-e44e-b9b7305d0ea2"
      },
      "execution_count": 12,
      "outputs": [
        {
          "output_type": "stream",
          "name": "stdout",
          "text": [
            "LogisticRegression 0.8666666666666667\n",
            "RandomForestClassifier 0.9090909090909091\n",
            "SVC 0.9090909090909091\n",
            "VotingClassifier 0.9151515151515152\n"
          ]
        }
      ]
    },
    {
      "cell_type": "code",
      "source": [],
      "metadata": {
        "id": "9sOpJXUgaC5R"
      },
      "execution_count": null,
      "outputs": []
    }
  ]
}